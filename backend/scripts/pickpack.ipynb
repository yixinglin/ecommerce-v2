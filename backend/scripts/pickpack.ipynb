{
 "cells": [
  {
   "cell_type": "code",
   "execution_count": null,
   "metadata": {},
   "outputs": [],
   "source": [
    "from dotenv import load_dotenv\n",
    "import os\n",
    "import pandas as pd \n",
    "import pymongo \n",
    "from jsonpath import jsonpath\n",
    "import sys \n",
    "from typing import List\n",
    "from pydantic import BaseModel, Field\n",
    "# sys.path.append(\"..\")\n",
    "os.chdir(\"G:/hansagt/ecommerce/backend\")\n",
    "\n",
    "dotenv_path = 'conf/dev.env'\n",
    "load_dotenv(dotenv_path=dotenv_path, override=True, verbose=True)"
   ]
  },
  {
   "cell_type": "code",
   "execution_count": null,
   "metadata": {},
   "outputs": [],
   "source": [
    "print(os.getenv('DEBUG'))\n",
    "from vo.carriers import PickSlipItemVO\n",
    "from core.db import OrderQueryParams\n",
    "from rest.pickpack.DataManager import PickPackMongoDBManager"
   ]
  },
  {
   "cell_type": "code",
   "execution_count": null,
   "metadata": {},
   "outputs": [],
   "source": [
    "with PickPackMongoDBManager(\"192.168.8.10\", 27017) as man:\n",
    "    # amazon_unshipped = man.find_unshipped_amazon_orders()\n",
    "    # orders = amazon_unshipped\n",
    "    params = OrderQueryParams()\n",
    "    params.status = [\"Shipped\"]\n",
    "    orders = man.amazonDataManager.find_orders_by_query_params(params)\n",
    "    refs = [order.orderId for order in orders]\n",
    "    items = man.get_pick_items_by_references(refs=refs)\n",
    "    packrefs = man.sort_packing_order_refs(refs=refs)\n",
    "\n",
    "    orders = man.amazonDataManager.find_orders_by_ids(packrefs)"
   ]
  },
  {
   "cell_type": "code",
   "execution_count": null,
   "metadata": {},
   "outputs": [],
   "source": [
    "dic_items = map(lambda x: x.dict(), items)\n",
    "df = pd.DataFrame.from_dict(dic_items).sort_values(by='orderId')\n",
    "df.head(10)"
   ]
  },
  {
   "cell_type": "markdown",
   "metadata": {},
   "source": [
    "## Picking Slip"
   ]
  },
  {
   "cell_type": "code",
   "execution_count": null,
   "metadata": {},
   "outputs": [],
   "source": [
    "df_slip = df.groupby(['sku', 'title'], as_index=False) \\\n",
    "                   .agg({'quantity': 'sum', 'sku': 'first', 'orderKey': 'first', 'storageLocation': 'first'})\n",
    "df_slip.sort_values(by=['sku', 'title'], inplace=True)\n",
    "# Reorder columns\n",
    "df_slip = df_slip[['sku', 'quantity','storageLocation', 'orderKey', 'title']]\n",
    "# Save to Excel\n",
    "df_slip.to_excel('scripts/pick_slip.xlsx', index=False)\n",
    "df_slip"
   ]
  },
  {
   "cell_type": "code",
   "execution_count": null,
   "metadata": {},
   "outputs": [],
   "source": [
    "slips = df_slip.to_dict(orient='records')\n",
    "slips = list(map(lambda x: PickSlipItemVO(**x), slips))"
   ]
  },
  {
   "cell_type": "markdown",
   "metadata": {},
   "source": [
    "## Packing Slip 生成Excel"
   ]
  },
  {
   "cell_type": "code",
   "execution_count": null,
   "metadata": {},
   "outputs": [],
   "source": [
    "# Order ids of sorted orders to be packed\n",
    "# packrefs\n",
    "import io\n",
    "order_dict = {order.orderId: order for order in orders}\n",
    "ordered_results = [order_dict[order_id] for order_id in packrefs]\n",
    "\n",
    "df_order_lines = []\n",
    "\n",
    "for i, o in enumerate(ordered_results):    \n",
    "    for line in o.items:\n",
    "        o_item = PickSlipItemVO(orderId=o.orderId, taskId=i+1, sku=line.sku, quantity=line.quantity, title=line.name)\n",
    "        df_order_lines.append(o_item)\n",
    "\n",
    "df_order_lines = [ o.dict() for o in df_order_lines]\n",
    "df_order_lines = pd.DataFrame.from_dict(df_order_lines)\n",
    "# Reduced columns\n",
    "df_order_lines = df_order_lines[['taskId', 'orderId', 'sku', 'quantity', 'title']]\n",
    "\n",
    "#df_order_lines\n",
    "display(df_order_lines)\n",
    "excel_file = \"scripts/pack_orders.xlsx\"\n",
    "excel_bytes = io.BytesIO()\n",
    "df_order_lines.to_excel(excel_bytes, index=False, sheet_name=\"pack_orders\")\n",
    "# df_order_lines.to_excel(excel_file, index=False, sheet_name=\"pack_orders\")"
   ]
  },
  {
   "cell_type": "code",
   "execution_count": null,
   "metadata": {},
   "outputs": [],
   "source": [
    "# 加载生成的Excel文件以便修改\n",
    "from openpyxl import load_workbook\n",
    "from openpyxl import Workbook\n",
    "from openpyxl.styles import PatternFill\n",
    "\n",
    "wb = load_workbook(excel_bytes)\n",
    "ws = wb.active\n",
    "\n",
    "# 定义背景填充样式\n",
    "gray_fill = PatternFill(start_color=\"DDDDDD\", end_color=\"DDDDDD\", fill_type=\"solid\")\n",
    "white_fill = PatternFill(start_color=\"FFFFFF\", end_color=\"FFFFFF\", fill_type=\"solid\")\n",
    "\n",
    "# 遍历所有行，并根据taskId设置背景色\n",
    "for row in range(2, ws.max_row + 1):  # 从第二行开始，因为第一行是表头\n",
    "    task_id = ws.cell(row=row, column=1).value\n",
    "    fill = gray_fill if task_id % 2 == 0 else white_fill\n",
    "    for col in range(1, ws.max_column + 1):\n",
    "        ws.cell(row=row, column=col).fill = fill\n",
    "\n",
    "# 保存修改后的Excel文件\n",
    "wb.save(excel_file)"
   ]
  },
  {
   "cell_type": "code",
   "execution_count": null,
   "metadata": {},
   "outputs": [],
   "source": []
  }
 ],
 "metadata": {
  "kernelspec": {
   "display_name": ".venv",
   "language": "python",
   "name": "python3"
  },
  "language_info": {
   "codemirror_mode": {
    "name": "ipython",
    "version": 3
   },
   "file_extension": ".py",
   "mimetype": "text/x-python",
   "name": "python",
   "nbconvert_exporter": "python",
   "pygments_lexer": "ipython3",
   "version": "3.12.2"
  }
 },
 "nbformat": 4,
 "nbformat_minor": 2
}
