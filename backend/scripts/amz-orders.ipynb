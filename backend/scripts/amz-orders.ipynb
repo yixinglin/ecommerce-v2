{
 "cells": [
  {
   "cell_type": "markdown",
   "metadata": {},
   "source": [
    "# Amazon Orders from SP-API"
   ]
  },
  {
   "cell_type": "code",
   "execution_count": null,
   "metadata": {},
   "outputs": [],
   "source": [
    "import pandas as pd \n",
    "import pymongo \n",
    "from jsonpath import jsonpath"
   ]
  },
  {
   "cell_type": "markdown",
   "metadata": {},
   "source": [
    "## Filters\n",
    "- {\"items.OrderItems.QuantityOrdered\": { $gt: 1 }}\n",
    "- {$where: \"this.items.OrderItems.length > 1\"}   304-3051997-3024347\n",
    "- {\"ShippingPrice\": { $exists: false }}  305-9788680-9105155\n",
    "- {\"order.OrderStatus\": \"Unshipped\"}\n",
    "- {\"order.PurchaseDate\": { $regex: \"^2024-04-14\"}}"
   ]
  },
  {
   "cell_type": "code",
   "execution_count": null,
   "metadata": {},
   "outputs": [],
   "source": [
    "db_client = pymongo.MongoClient(\"192.168.8.10\", 27017)\n",
    "db_names = db_client.list_database_names()\n",
    "print(db_names)\n",
    "orders_collection = db_client['amazon_data'][\"orders\"]\n",
    "# Filters\n",
    "#  \"306-4644186-6279565\" # 306-7409173-7592316 302-0196774-9621929  306-4644186-6279565 304-3051997-3024347\n",
    "# order = orders_collection.find_one({\"_id\": \"305-9788680-9105155\"}, )\n",
    "order = orders_collection.find_one({\"_id\": \"304-3051997-3024347\"}, )\n",
    "\n",
    "print(order)"
   ]
  },
  {
   "cell_type": "code",
   "execution_count": null,
   "metadata": {},
   "outputs": [],
   "source": [
    "# Order\n",
    "order_id = jsonpath(order, \"$._id\")[0]\n",
    "earliestDeliveryDate = jsonpath(order, \"$.order.EarliestDeliveryDate\")\n",
    "earliestShipDate = jsonpath(order, \"$.order.EarliestShipDate\")[0]\n",
    "salesChannel = jsonpath(order, \"$.order.SalesChannel\")[0]\n",
    "orderStatus = jsonpath(order, \"$.order.OrderStatus\")[0]\n",
    "latestShipDate = jsonpath(order, \"$.order.LatestShipDate\")[0]\n",
    "purchaseDate = jsonpath(order, \"$.order.PurchaseDate\")[0]\n",
    "orderTotalAmount = jsonpath(order, \"$.order.OrderTotal.Amount\")[0]\n",
    "orderTotalCurrencyCode = jsonpath(order, \"$.order.OrderTotal.CurrencyCode\")[0]\n",
    "lastUpdateDate = purchaseDate = jsonpath(order, \"$.order.LastUpdateDate\")[0]\n",
    "\n",
    "# Order Items\n",
    "titles = jsonpath(order, \"$.items.OrderItems[*].Title\")\n",
    "asins = jsonpath(order, \"$.items.OrderItems[*].ASIN\")\n",
    "sellerSKUs = jsonpath(order, \"$.items.OrderItems[*].SellerSKU\")\n",
    "ItemPriceCurrencyCode = jsonpath(order, \"$.items.OrderItems[*].ItemPrice.CurrencyCode\")\n",
    "ItemPriceAmount = jsonpath(order, \"$.items.OrderItems[*].ItemPrice.Amount\")\n",
    "shippingPriceAmounts = jsonpath(order, \"$.items.OrderItems[*].ShippingPrice.Amount\")\n",
    "shippingPriceCurrencyCodes = jsonpath(order, \"$.items.OrderItems[*].ShippingPrice.CurrencyCode\")\n",
    "isTransparency = jsonpath(order, \"$.items.OrderItems[*].IsTransparency\")\n",
    "quantityOrdered = jsonpath(order, \"$.items.OrderItems[*].QuantityOrdered\")\n",
    "titles = jsonpath(order, \"$.items.OrderItems[*].Title\")\n"
   ]
  },
  {
   "cell_type": "markdown",
   "metadata": {},
   "source": [
    "## 订单视图"
   ]
  },
  {
   "cell_type": "code",
   "execution_count": null,
   "metadata": {},
   "outputs": [],
   "source": [
    "order_dict = {\n",
    "    \"Order\": {\n",
    "        \"order_id\": jsonpath(order, \"$._id\")[0],\n",
    "        \"earliestDeliveryDate\": jsonpath(order, \"$.order.EarliestDeliveryDate\")[0],\n",
    "        \"earliestShipDate\": jsonpath(order, \"$.order.EarliestShipDate\")[0],\n",
    "        \"salesChannel\": jsonpath(order, \"$.order.SalesChannel\")[0],\n",
    "        \"orderStatus\": jsonpath(order, \"$.order.OrderStatus\")[0],\n",
    "        \"latestShipDate\": jsonpath(order, \"$.order.LatestShipDate\")[0],\n",
    "        \"purchaseDate\": jsonpath(order, \"$.order.PurchaseDate\")[0],\n",
    "        \"orderTotal\": {\n",
    "            \"amount\": jsonpath(order, \"$.order.OrderTotal.Amount\")[0],\n",
    "            \"currencyCode\": jsonpath(order, \"$.order.OrderTotal.CurrencyCode\")[0]\n",
    "        },\n",
    "        \"lastUpdateDate\": jsonpath(order, \"$.order.LastUpdateDate\")[0]\n",
    "    },\n",
    "    \"OrderItems\": []\n",
    "}\n",
    "\n",
    "# 遍历订单中的每个订单项\n",
    "for i in range(len(titles)):\n",
    "    order_item = {\n",
    "        \"title\": titles[i],\n",
    "        \"ASIN\": asins[i],\n",
    "        \"sellerSKU\": sellerSKUs[i],\n",
    "        \"ItemPrice\": {\n",
    "            \"amount\": ItemPriceAmount[i],\n",
    "            \"currencyCode\": ItemPriceCurrencyCode[i]\n",
    "        },\n",
    "        \"ShippingPrice\": {\n",
    "            \"amount\": shippingPriceAmounts[i] if shippingPriceAmounts else None,\n",
    "            \"currencyCode\": shippingPriceCurrencyCodes[i] if shippingPriceCurrencyCodes else None\n",
    "        },\n",
    "        \"isTransparency\": isTransparency[i],\n",
    "        \"quantityOrdered\": quantityOrdered[i]\n",
    "    }\n",
    "    order_dict[\"OrderItems\"].append(order_item)\n"
   ]
  },
  {
   "cell_type": "code",
   "execution_count": null,
   "metadata": {},
   "outputs": [],
   "source": [
    "shippedOrders = list(orders_collection.find({\"order.OrderStatus\": \"Shipped\"}))\n",
    "unshippedOrders = list(orders_collection.find({\"order.OrderStatus\": \"Unshipped\"}))"
   ]
  },
  {
   "cell_type": "code",
   "execution_count": null,
   "metadata": {},
   "outputs": [],
   "source": [
    "# 聚合管道，用于计算每个产品的寄出数量\n",
    "pipeline = [\n",
    "    {\n",
    "        \"$unwind\": \"$items.OrderItems\"\n",
    "    },\n",
    "    { \"$match\" : { \"order.OrderStatus\" : \"Shipped\" } },\n",
    "    {\n",
    "        \"$group\": {\n",
    "            \"_id\": \"$items.OrderItems.SellerSKU\",\n",
    "            \"totalQuantityShipped\": {\"$sum\": \"$items.OrderItems.QuantityShipped\"}\n",
    "        }\n",
    "    }\n",
    "]\n",
    "\n",
    "results = orders_collection.aggregate(pipeline)\n",
    "# 打印结果\n",
    "for result in results:\n",
    "    print(result)  #             \"sku\": \"$items.OrderItems.SellerSKU\","
   ]
  },
  {
   "cell_type": "code",
   "execution_count": null,
   "metadata": {},
   "outputs": [],
   "source": [
    "from datetime import datetime, timedelta\n",
    "days_ago = 10\n",
    "DATETIME_PATTERN = '%Y-%m-%d'\n",
    "start_date = datetime.now() - timedelta(days=days_ago-1)\n",
    "# 聚合管道，用于统计每个产品每天的寄出数量\n",
    "pipeline = [\n",
    "    {\n",
    "        \"$unwind\": \"$items.OrderItems\"\n",
    "    },\n",
    "    {\n",
    "        \"$project\": {\n",
    "            \"_id\": 0,\n",
    "            \"orderDate\": {\"$dateFromString\": {\"dateString\": \"$order.PurchaseDate\"}},\n",
    "            \"asin\": \"$items.OrderItems.ASIN\",\n",
    "            \"quantityOrdered\": \"$items.OrderItems.QuantityOrdered\",\n",
    "            \"quantityShipped\": \"$items.OrderItems.QuantityShipped\",\n",
    "            \"sellerSKU\": \"$items.OrderItems.SellerSKU\",\n",
    "            \"fulfillmentChannel\": \"$order.FulfillmentChannel\",\n",
    "            \"title\": \"$items.OrderItems.Title\"\n",
    "        }\n",
    "    },\n",
    "    {\n",
    "        \"$match\": {\n",
    "            \"orderDate\": {\"$gte\": start_date}, \n",
    "            \"fulfillmentChannel\": \"MFN\"\n",
    "        }\n",
    "    },\n",
    "    {\n",
    "        \"$group\": {\n",
    "            \"_id\": {\n",
    "                \"date\": {\"$dateToString\": {\"format\": \"%Y-%m-%d\", \"date\": \"$orderDate\"}},\n",
    "                \"asin\": \"$asin\"\n",
    "            },\n",
    "            \"totalQuantityOrdered\": {\"$sum\": \"$quantityOrdered\"},\n",
    "            \"totalQuantityShipped\": {\"$sum\": \"$quantityShipped\"},\n",
    "            \"sellerSKU\": {\"$first\": \"$sellerSKU\"},\n",
    "            \"title\": {\"$first\": \"$title\"},\n",
    "        }\n",
    "    },\n",
    "    {\n",
    "        \"$group\": {\n",
    "            \"_id\": \"$_id.date\",\n",
    "            \"purchaseDate\": {\"$first\": \"$_id.date\"},\n",
    "            'dailyOrdersItemsCount': {'$sum': '$totalQuantityOrdered'},\n",
    "            'dailyShippedItemsCount': {'$sum': '$totalQuantityShipped'},\n",
    "            \"dailyShipments\": {\n",
    "                \"$push\": {\n",
    "                   \"asin\": \"$_id.asin\",\n",
    "                   \"sellerSKU\": \"$sellerSKU\",\n",
    "                    \"totalQuantityShipped\": \"$totalQuantityShipped\",\n",
    "                    \"totalQuantityOrdered\": \"$totalQuantityOrdered\",\n",
    "                    \"title\": \"$title\",\n",
    "                }\n",
    "            }\n",
    "        }\n",
    "    },\n",
    "\n",
    "    {\n",
    "        \"$sort\": {\"_id\": -1}\n",
    "    }\n",
    "]\n",
    "# 执行聚合操作\n",
    "results = orders_collection.aggregate(pipeline)\n",
    "\n",
    "# 打印结果\n",
    "for result in results:\n",
    "    print(result)"
   ]
  },
  {
   "cell_type": "code",
   "execution_count": null,
   "metadata": {},
   "outputs": [],
   "source": [
    "pipelines = [\n",
    "    {\n",
    "        '$unwind': '$items.OrderItems'\n",
    "    }, {\n",
    "        '$group': {\n",
    "            '_id': None, \n",
    "            'asinList': {\n",
    "                '$addToSet': '$items.OrderItems.ASIN'\n",
    "            }\n",
    "        }\n",
    "    }\n",
    "]\n",
    "\n",
    "# 执行聚合操作\n",
    "results = orders_collection.aggregate(pipelines)\n",
    "asinList = results.next()['asinList']\n",
    "print(asinList)"
   ]
  },
  {
   "cell_type": "code",
   "execution_count": null,
   "metadata": {},
   "outputs": [],
   "source": []
  }
 ],
 "metadata": {
  "kernelspec": {
   "display_name": ".venv",
   "language": "python",
   "name": "python3"
  },
  "language_info": {
   "codemirror_mode": {
    "name": "ipython",
    "version": 3
   },
   "file_extension": ".py",
   "mimetype": "text/x-python",
   "name": "python",
   "nbconvert_exporter": "python",
   "pygments_lexer": "ipython3",
   "version": "3.12.2"
  }
 },
 "nbformat": 4,
 "nbformat_minor": 2
}
