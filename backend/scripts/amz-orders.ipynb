{
 "cells": [
  {
   "cell_type": "markdown",
   "metadata": {},
   "source": [
    "# Amazon Orders from SP-API"
   ]
  },
  {
   "cell_type": "code",
   "execution_count": 19,
   "metadata": {},
   "outputs": [],
   "source": [
    "import pandas as pd \n",
    "import pymongo \n",
    "from jsonpath import jsonpath"
   ]
  },
  {
   "cell_type": "markdown",
   "metadata": {},
   "source": [
    "## Filters\n",
    "- {\"items.OrderItems.QuantityOrdered\": { $gt: 1 }}\n",
    "- {$where: \"this.items.OrderItems.length > 1\"}   304-3051997-3024347\n",
    "- {\"ShippingPrice\": { $exists: false }}  305-9788680-9105155\n",
    "- {\"order.OrderStatus\": \"Unshipped\"}\n",
    "- {\"order.PurchaseDate\": { $regex: \"^2024-04-14\"}}"
   ]
  },
  {
   "cell_type": "code",
   "execution_count": 27,
   "metadata": {},
   "outputs": [
    {
     "name": "stdout",
     "output_type": "stream",
     "text": [
      "['admin', 'amazon_data', 'config', 'local']\n",
      "{'_id': '304-3051997-3024347', 'fetchedAt': '2024-04-21T01:21:06Z', 'items': {'OrderItems': [{'ProductInfo': {'NumberOfItems': '100'}, 'BuyerInfo': {}, 'ItemTax': {'CurrencyCode': 'EUR', 'Amount': '3.20'}, 'QuantityShipped': 2, 'BuyerRequestedCancel': {'IsBuyerRequestedCancel': 'false', 'BuyerCancelReason': ''}, 'ItemPrice': {'CurrencyCode': 'EUR', 'Amount': '19.98'}, 'ASIN': 'B0CS6C67XH', 'SellerSKU': 'Schwarz-XL-100', 'Title': 'Einweghandschuhe Schwarz XL 100 Stück Nitrilhandschuhe puderfrei, Handschuhe Einweg latexfrei, strapazierfähige reißfeste Gummihandschuhe, Einweghandschuhe für Kochen, Reinigen, Tattoo & Nagelpflege', 'IsGift': 'false', 'ConditionSubtypeId': 'New', 'IsTransparency': False, 'QuantityOrdered': 2, 'PromotionDiscountTax': {'CurrencyCode': 'EUR', 'Amount': '0.00'}, 'ConditionId': 'New', 'PromotionDiscount': {'CurrencyCode': 'EUR', 'Amount': '0.00'}, 'OrderItemId': '37561007375002'}, {'ProductInfo': {'NumberOfItems': '1'}, 'BuyerInfo': {}, 'ItemTax': {'CurrencyCode': 'EUR', 'Amount': '4.88'}, 'QuantityShipped': 1, 'BuyerRequestedCancel': {'IsBuyerRequestedCancel': 'false', 'BuyerCancelReason': ''}, 'ItemPrice': {'CurrencyCode': 'EUR', 'Amount': '30.59'}, 'ASIN': 'B015ZK2UNE', 'SellerSKU': 'MaiMed Wandhalter', 'Title': 'MaiMed Wandhalter, Handschuh-Spender aus Acryl für 3 Handschuhboxen', 'IsGift': 'false', 'PriceDesignation': 'Business Price', 'ConditionSubtypeId': 'New', 'IsTransparency': False, 'QuantityOrdered': 1, 'PromotionDiscountTax': {'CurrencyCode': 'EUR', 'Amount': '0.00'}, 'ConditionId': 'New', 'PromotionDiscount': {'CurrencyCode': 'EUR', 'Amount': '0.00'}, 'OrderItemId': '37561007374962'}, {'ProductInfo': {'NumberOfItems': '100'}, 'BuyerInfo': {}, 'ItemTax': {'CurrencyCode': 'EUR', 'Amount': '3.20'}, 'QuantityShipped': 2, 'BuyerRequestedCancel': {'IsBuyerRequestedCancel': 'false', 'BuyerCancelReason': ''}, 'ItemPrice': {'CurrencyCode': 'EUR', 'Amount': '19.98'}, 'ASIN': 'B0CS65SXLG', 'SellerSKU': 'Schwarz-S-100', 'Title': 'Einweghandschuhe Schwarz S 100 Stück Nitrilhandschuhe puderfrei, Handschuhe Einweg latexfrei, strapazierfähige reißfeste Gummihandschuhe, Einweghandschuhe für Kochen Reinigen Tattoo & Nagelpflege', 'IsGift': 'false', 'ConditionSubtypeId': 'New', 'IsTransparency': False, 'QuantityOrdered': 2, 'PromotionDiscountTax': {'CurrencyCode': 'EUR', 'Amount': '0.00'}, 'ConditionId': 'New', 'PromotionDiscount': {'CurrencyCode': 'EUR', 'Amount': '0.00'}, 'OrderItemId': '37561007375042'}, {'ProductInfo': {'NumberOfItems': '100'}, 'BuyerInfo': {}, 'ItemTax': {'CurrencyCode': 'EUR', 'Amount': '3.20'}, 'QuantityShipped': 2, 'BuyerRequestedCancel': {'IsBuyerRequestedCancel': 'false', 'BuyerCancelReason': ''}, 'ItemPrice': {'CurrencyCode': 'EUR', 'Amount': '19.98'}, 'ASIN': 'B0CS6JGCN4', 'SellerSKU': 'Schwarz-M-100', 'Title': 'Einweghandschuhe Schwarz M 100 Stück Nitrilhandschuhe puderfrei, Handschuhe Einweg latexfrei, strapazierfähige reißfeste Gummihandschuhe, Einweghandschuhe für Kochen, Reinigen, Tattoo & Nagelpflege', 'IsGift': 'false', 'ConditionSubtypeId': 'New', 'IsTransparency': False, 'QuantityOrdered': 2, 'PromotionDiscountTax': {'CurrencyCode': 'EUR', 'Amount': '0.00'}, 'ConditionId': 'New', 'PromotionDiscount': {'CurrencyCode': 'EUR', 'Amount': '0.00'}, 'OrderItemId': '37561007375122'}, {'ProductInfo': {'NumberOfItems': '100'}, 'BuyerInfo': {}, 'ItemTax': {'CurrencyCode': 'EUR', 'Amount': '3.20'}, 'QuantityShipped': 2, 'BuyerRequestedCancel': {'IsBuyerRequestedCancel': 'false', 'BuyerCancelReason': ''}, 'ItemPrice': {'CurrencyCode': 'EUR', 'Amount': '19.98'}, 'ASIN': 'B0CS5Q77Q2', 'SellerSKU': 'Schwarz-L-100', 'Title': 'Einweghandschuhe Schwarz L 100 Stück Nitrilhandschuhe puderfrei, Handschuhe Einweg latexfrei, strapazierfähige reißfeste Gummihandschuhe, Einweghandschuhe für Kochen, Reinigen, Tattoo & Nagelpflege', 'IsGift': 'false', 'ConditionSubtypeId': 'New', 'IsTransparency': False, 'QuantityOrdered': 2, 'PromotionDiscountTax': {'CurrencyCode': 'EUR', 'Amount': '0.00'}, 'ConditionId': 'New', 'PromotionDiscount': {'CurrencyCode': 'EUR', 'Amount': '0.00'}, 'OrderItemId': '37561007375082'}], 'AmazonOrderId': '304-3051997-3024347'}, 'order': {'BuyerInfo': {'BuyerEmail': '5wdnyc0l86p7qqf@marketplace.amazon.de'}, 'AmazonOrderId': '304-3051997-3024347', 'EarliestDeliveryDate': '2024-04-21T22:00:00Z', 'EarliestShipDate': '2024-04-18T22:00:00Z', 'SalesChannel': 'Amazon.de', 'AutomatedShippingSettings': {'HasAutomatedShippingSettings': True, 'AutomatedShipMethodName': 'DHL Warenpost', 'AutomatedCarrierName': 'Deutsche Post'}, 'OrderStatus': 'Shipped', 'NumberOfItemsShipped': 9, 'OrderType': 'StandardOrder', 'IsPremiumOrder': False, 'IsPrime': False, 'FulfillmentChannel': 'MFN', 'NumberOfItemsUnshipped': 0, 'HasRegulatedItems': False, 'IsReplacementOrder': 'false', 'IsSoldByAB': False, 'LatestShipDate': '2024-04-19T21:59:59Z', 'ShipServiceLevel': 'Std DE Dom_7', 'DefaultShipFromLocationAddress': {'AddressLine1': 'null', 'PostalCode': '20539', 'City': 'Hamburg', 'CountryCode': 'DE', 'Name': 'null'}, 'IsISPU': False, 'MarketplaceId': 'A1PA6795UKMFR9', 'LatestDeliveryDate': '2024-04-23T21:59:59Z', 'PurchaseDate': '2024-04-18T09:54:41Z', 'ShippingAddress': {'PostalCode': '90763', 'City': 'Fürth', 'CountryCode': 'DE'}, 'IsAccessPointOrder': False, 'PaymentMethod': 'Other', 'IsBusinessOrder': True, 'OrderTotal': {'CurrencyCode': 'EUR', 'Amount': '110.51'}, 'PaymentMethodDetails': ['Invoice'], 'IsGlobalExpressEnabled': False, 'LastUpdateDate': '2024-04-19T02:57:24Z', 'ShipmentServiceLevelCategory': 'Standard'}}\n"
     ]
    }
   ],
   "source": [
    "db_client = pymongo.MongoClient(\"192.168.8.10\", 27017)\n",
    "db_names = db_client.list_database_names()\n",
    "print(db_names)\n",
    "orders_collection = db_client['amazon_data'][\"orders\"]\n",
    "# Filters\n",
    "#  \"306-4644186-6279565\" # 306-7409173-7592316 302-0196774-9621929  306-4644186-6279565 304-3051997-3024347\n",
    "# order = orders_collection.find_one({\"_id\": \"305-9788680-9105155\"}, )\n",
    "order = orders_collection.find_one({\"_id\": \"304-3051997-3024347\"}, )\n",
    "\n",
    "print(order)"
   ]
  },
  {
   "cell_type": "code",
   "execution_count": 30,
   "metadata": {},
   "outputs": [],
   "source": [
    "# Order\n",
    "order_id = jsonpath(order, \"$._id\")[0]\n",
    "earliestDeliveryDate = jsonpath(order, \"$.order.EarliestDeliveryDate\")\n",
    "earliestShipDate = jsonpath(order, \"$.order.EarliestShipDate\")[0]\n",
    "salesChannel = jsonpath(order, \"$.order.SalesChannel\")[0]\n",
    "orderStatus = jsonpath(order, \"$.order.OrderStatus\")[0]\n",
    "latestShipDate = jsonpath(order, \"$.order.LatestShipDate\")[0]\n",
    "purchaseDate = jsonpath(order, \"$.order.PurchaseDate\")[0]\n",
    "orderTotalAmount = jsonpath(order, \"$.order.OrderTotal.Amount\")[0]\n",
    "orderTotalCurrencyCode = jsonpath(order, \"$.order.OrderTotal.CurrencyCode\")[0]\n",
    "lastUpdateDate = purchaseDate = jsonpath(order, \"$.order.LastUpdateDate\")[0]\n",
    "\n",
    "# Order Items\n",
    "titles = jsonpath(order, \"$.items.OrderItems[*].Title\")\n",
    "asins = jsonpath(order, \"$.items.OrderItems[*].ASIN\")\n",
    "sellerSKUs = jsonpath(order, \"$.items.OrderItems[*].SellerSKU\")\n",
    "ItemPriceCurrencyCode = jsonpath(order, \"$.items.OrderItems[*].ItemPrice.CurrencyCode\")\n",
    "ItemPriceAmount = jsonpath(order, \"$.items.OrderItems[*].ItemPrice.Amount\")\n",
    "shippingPriceAmounts = jsonpath(order, \"$.items.OrderItems[*].ShippingPrice.Amount\")\n",
    "shippingPriceCurrencyCodes = jsonpath(order, \"$.items.OrderItems[*].ShippingPrice.CurrencyCode\")\n",
    "isTransparency = jsonpath(order, \"$.items.OrderItems[*].IsTransparency\")\n",
    "quantityOrdered = jsonpath(order, \"$.items.OrderItems[*].QuantityOrdered\")\n",
    "titles = jsonpath(order, \"$.items.OrderItems[*].Title\")\n"
   ]
  },
  {
   "cell_type": "markdown",
   "metadata": {},
   "source": [
    "## 订单视图"
   ]
  },
  {
   "cell_type": "code",
   "execution_count": 31,
   "metadata": {},
   "outputs": [],
   "source": [
    "order_dict = {\n",
    "    \"Order\": {\n",
    "        \"order_id\": jsonpath(order, \"$._id\")[0],\n",
    "        \"earliestDeliveryDate\": jsonpath(order, \"$.order.EarliestDeliveryDate\")[0],\n",
    "        \"earliestShipDate\": jsonpath(order, \"$.order.EarliestShipDate\")[0],\n",
    "        \"salesChannel\": jsonpath(order, \"$.order.SalesChannel\")[0],\n",
    "        \"orderStatus\": jsonpath(order, \"$.order.OrderStatus\")[0],\n",
    "        \"latestShipDate\": jsonpath(order, \"$.order.LatestShipDate\")[0],\n",
    "        \"purchaseDate\": jsonpath(order, \"$.order.PurchaseDate\")[0],\n",
    "        \"orderTotal\": {\n",
    "            \"amount\": jsonpath(order, \"$.order.OrderTotal.Amount\")[0],\n",
    "            \"currencyCode\": jsonpath(order, \"$.order.OrderTotal.CurrencyCode\")[0]\n",
    "        },\n",
    "        \"lastUpdateDate\": jsonpath(order, \"$.order.LastUpdateDate\")[0]\n",
    "    },\n",
    "    \"OrderItems\": []\n",
    "}\n",
    "\n",
    "# 遍历订单中的每个订单项\n",
    "for i in range(len(titles)):\n",
    "    order_item = {\n",
    "        \"title\": titles[i],\n",
    "        \"ASIN\": asins[i],\n",
    "        \"sellerSKU\": sellerSKUs[i],\n",
    "        \"ItemPrice\": {\n",
    "            \"amount\": ItemPriceAmount[i],\n",
    "            \"currencyCode\": ItemPriceCurrencyCode[i]\n",
    "        },\n",
    "        \"ShippingPrice\": {\n",
    "            \"amount\": shippingPriceAmounts[i] if shippingPriceAmounts else None,\n",
    "            \"currencyCode\": shippingPriceCurrencyCodes[i] if shippingPriceCurrencyCodes else None\n",
    "        },\n",
    "        \"isTransparency\": isTransparency[i],\n",
    "        \"quantityOrdered\": quantityOrdered[i]\n",
    "    }\n",
    "    order_dict[\"OrderItems\"].append(order_item)\n"
   ]
  },
  {
   "cell_type": "code",
   "execution_count": 36,
   "metadata": {},
   "outputs": [],
   "source": [
    "shippedOrders = list(orders_collection.find({\"order.OrderStatus\": \"Shipped\"}))\n",
    "unshippedOrders = list(orders_collection.find({\"order.OrderStatus\": \"Unshipped\"}))"
   ]
  },
  {
   "cell_type": "code",
   "execution_count": 46,
   "metadata": {},
   "outputs": [
    {
     "name": "stdout",
     "output_type": "stream",
     "text": [
      "{'_id': 'Meditrade 4471 Abe Fixiervlies', 'totalQuantityShipped': 1}\n",
      "{'_id': 'MaiMed-Pad-unsteril 20x20cm', 'totalQuantityShipped': 0}\n",
      "{'_id': 'HMMD-77040', 'totalQuantityShipped': 2}\n",
      "{'_id': 'HGNI100S-XL', 'totalQuantityShipped': 9}\n",
      "{'_id': 'FBM-Nasenverband 20 Stück-75115', 'totalQuantityShipped': 21}\n",
      "{'_id': 'Blau-M-100', 'totalQuantityShipped': 3}\n",
      "{'_id': 'Schwarz-XL-100', 'totalQuantityShipped': 30}\n",
      "{'_id': 'Reinex Fugenreiniger 500 ml', 'totalQuantityShipped': 3}\n",
      "{'_id': 'Lifemed Kühlspray 3er  300 ml', 'totalQuantityShipped': 1}\n",
      "{'_id': 'Weiß-L-100', 'totalQuantityShipped': 1}\n",
      "{'_id': 'HANS-751416D-5', 'totalQuantityShipped': 9}\n",
      "{'_id': '2*Ungezieferköder 4-er', 'totalQuantityShipped': 4}\n",
      "{'_id': 'HGBKPPPE100', 'totalQuantityShipped': 1}\n",
      "{'_id': 'CB-YRCL-XUXH', 'totalQuantityShipped': 2}\n",
      "{'_id': 'HMD-77590', 'totalQuantityShipped': 6}\n",
      "{'_id': 'Dr. Becher Grillreiniger 5 l', 'totalQuantityShipped': 1}\n",
      "{'_id': 'Reinex Wespenspray', 'totalQuantityShipped': 7}\n",
      "{'_id': 'HMMD-77080', 'totalQuantityShipped': 1}\n",
      "{'_id': 'Meditrade 6052', 'totalQuantityShipped': 1}\n",
      "{'_id': 'Insektenspray', 'totalQuantityShipped': 2}\n",
      "{'_id': 'HGBKPP100', 'totalQuantityShipped': 1}\n",
      "{'_id': 'HMD-77585', 'totalQuantityShipped': 5}\n",
      "{'_id': 'Schwarz-L-100', 'totalQuantityShipped': 5}\n",
      "{'_id': 'Descolind Pure Intensive Cream 500ml', 'totalQuantityShipped': 5}\n",
      "{'_id': 'Luft Rein 2*', 'totalQuantityShipped': 1}\n",
      "{'_id': 'Weiß-XL-100', 'totalQuantityShipped': 2}\n",
      "{'_id': 'HANS-751416D-2', 'totalQuantityShipped': 4}\n",
      "{'_id': 'Schwarz-M-1000', 'totalQuantityShipped': 4}\n",
      "{'_id': 'Schwarz-S-1000', 'totalQuantityShipped': 4}\n",
      "{'_id': 'Vinyl-XL-100', 'totalQuantityShipped': 1}\n",
      "{'_id': 'HMMD-77050', 'totalQuantityShipped': 1}\n",
      "{'_id': 'FBM-HMMD-21230', 'totalQuantityShipped': 1}\n",
      "{'_id': 'HMMD-76620', 'totalQuantityShipped': 4}\n",
      "{'_id': 'HMD-77580', 'totalQuantityShipped': 6}\n",
      "{'_id': 'HMMD-77070', 'totalQuantityShipped': 3}\n",
      "{'_id': 'Meditrade 1221RXLT Gentle Skin Sensitive', 'totalQuantityShipped': 1}\n",
      "{'_id': 'Dr. Becher Bratkrusten Entferner', 'totalQuantityShipped': 1}\n",
      "{'_id': 'Schwarz-M-100', 'totalQuantityShipped': 6}\n",
      "{'_id': 'MaiMed-Waschhandschuh', 'totalQuantityShipped': 2}\n",
      "{'_id': '7L-7PPU-H005', 'totalQuantityShipped': 6}\n",
      "{'_id': 'Schwarz-L-1000', 'totalQuantityShipped': 4}\n",
      "{'_id': 'Vinyl-L-100', 'totalQuantityShipped': 2}\n",
      "{'_id': 'Blau-XL-100L', 'totalQuantityShipped': 4}\n",
      "{'_id': '2x Dr. Becher Grüne Beckensteine', 'totalQuantityShipped': 1}\n",
      "{'_id': 'Schwarz-S-100', 'totalQuantityShipped': 2}\n",
      "{'_id': 'MaiMed-porefix steril 7cmx5cm', 'totalQuantityShipped': 1}\n",
      "{'_id': 'MaiMed Wandhalter', 'totalQuantityShipped': 11}\n"
     ]
    }
   ],
   "source": [
    "# 聚合管道，用于计算每个产品的寄出数量\n",
    "pipeline = [\n",
    "    {\n",
    "        \"$unwind\": \"$items.OrderItems\"\n",
    "    },\n",
    "    { \"$match\" : { \"order.OrderStatus\" : \"Shipped\" } },\n",
    "    {\n",
    "        \"$group\": {\n",
    "            \"_id\": \"$items.OrderItems.SellerSKU\",\n",
    "            \"totalQuantityShipped\": {\"$sum\": \"$items.OrderItems.QuantityShipped\"}\n",
    "        }\n",
    "    }\n",
    "]\n",
    "\n",
    "results = orders_collection.aggregate(pipeline)\n",
    "# 打印结果\n",
    "for result in results:\n",
    "    print(result)  #             \"sku\": \"$items.OrderItems.SellerSKU\","
   ]
  },
  {
   "cell_type": "code",
   "execution_count": 122,
   "metadata": {},
   "outputs": [
    {
     "name": "stdout",
     "output_type": "stream",
     "text": [
      "{'_id': '2024-04-21', 'purchaseDate': '2024-04-21', 'dailyShipments': [{'asin': 'B0CYH6S9RR', 'sellerSKU': '7L-7PPU-H005', 'totalQuantityShipped': 0, 'totalQuantityOrdered': 1, 'title': '10 Stück Spritze, 50ML Wiederverwendbare Spritze, Dosierspritze Ohne Nadel, Werkzeuge für Flüssigkeitsmaß Spritzen, Futterspritze, für Labor,Tierfütterung,Pflanzenbewässerung (50ml)'}, {'asin': 'B096MRHSW1', 'sellerSKU': 'Descolind Pure Intensive Cream 500ml', 'totalQuantityShipped': 0, 'totalQuantityOrdered': 1, 'title': 'DESCOLIND® PURE Intensive Cream 500 ml Spenderflasche Parfümfreie Intensiv-Pflegecreme'}]}\n",
      "{'_id': '2024-04-20', 'purchaseDate': '2024-04-20', 'dailyShipments': [{'asin': 'B0CYH6S9RR', 'sellerSKU': '7L-7PPU-H005', 'totalQuantityShipped': 0, 'totalQuantityOrdered': 2, 'title': '10 Stück Spritze, 50ML Wiederverwendbare Spritze, Dosierspritze Ohne Nadel, Werkzeuge für Flüssigkeitsmaß Spritzen, Futterspritze, für Labor,Tierfütterung,Pflanzenbewässerung (50ml)'}, {'asin': 'B0CXXSGH74', 'sellerSKU': 'HMD-77590', 'totalQuantityShipped': 0, 'totalQuantityOrdered': 2, 'title': 'Stretch FIxiervlies elastisch Spenderbox Fixierpflaster Rollenpflaster Elastisch Weiß Sensitiv - Starke Klebekraft (15cm x 10m)'}, {'asin': 'B0CS6JGCN4', 'sellerSKU': 'Schwarz-M-100', 'totalQuantityShipped': 0, 'totalQuantityOrdered': 1, 'title': 'Einweghandschuhe Schwarz M 100 Stück Nitrilhandschuhe puderfrei, Handschuhe Einweg latexfrei, strapazierfähige reißfeste Gummihandschuhe, Einweghandschuhe für Kochen, Reinigen, Tattoo & Nagelpflege'}]}\n",
      "{'_id': '2024-04-19', 'purchaseDate': '2024-04-19', 'dailyShipments': [{'asin': 'B0CY4WZY6N', 'sellerSKU': 'HGBKPPPE100', 'totalQuantityShipped': 0, 'totalQuantityOrdered': 1, 'title': 'HansaGT Medical 100 Stk PP+PE Schutzkittel Einweg 32g,OP Kittel Blau,Einweg Kittel,Vlieskittel, Patientenkittel,Einmalkittel,Schutzkittel, Einwegkittel'}, {'asin': 'B0CY4TZK1F', 'sellerSKU': 'HGBKPP100', 'totalQuantityShipped': 0, 'totalQuantityOrdered': 1, 'title': 'HansaGT Medical 100 Stk PP Schutzkittel Einweg 23g, Einweg-Kittel Blau,OP Kittel,Schutzkittel,PP-Vlieskittelfür den medizinischen und industriellen Gebrauch (PP Einweg Kittel)'}, {'asin': 'B0CSPBS53V', 'sellerSKU': 'Vinyl-L-100', 'totalQuantityShipped': 2, 'totalQuantityOrdered': 2, 'title': 'Einweghandschuhe Vinyl, Handschuhe L,100x Vinylhandschuhe, Handschuhe Einweg puderfrei, Gummihandschuhe Einweg latexfrei, Einweg Handschuhe, Einmalhandschuhe in S, M, L, XL'}, {'asin': 'B0CL8SPY1X', 'sellerSKU': 'FBM-Nasenverband 20 Stück-75115', 'totalQuantityShipped': 1, 'totalQuantityOrdered': 1, 'title': 'Nasenverband 20 Stück mit Ohrschlaufen'}, {'asin': 'B0CVX5FFTQ', 'sellerSKU': 'Schwarz-L-1000', 'totalQuantityShipped': 1, 'totalQuantityOrdered': 1, 'title': 'HansaGT Medical 1000 Stück Einweghandschuhe Schwarz,Einmalhandschuhe L,Nitril Handschuhe,Gummihandschuhe Einweg Handschuhe,Puderfrei Latexfrei Nitrilhandschuhe,Schutzhandschuhe Nitril'}, {'asin': 'B0CYH6S9RR', 'sellerSKU': '7L-7PPU-H005', 'totalQuantityShipped': 0, 'totalQuantityOrdered': 1, 'title': '10 Stück Spritze, 50ML Wiederverwendbare Spritze, Dosierspritze Ohne Nadel, Werkzeuge für Flüssigkeitsmaß Spritzen, Futterspritze, für Labor,Tierfütterung,Pflanzenbewässerung (50ml)'}]}\n",
      "{'_id': '2024-04-18', 'purchaseDate': '2024-04-18', 'dailyShipments': [{'asin': 'B0CS6C67XH', 'sellerSKU': 'Schwarz-XL-100', 'totalQuantityShipped': 3, 'totalQuantityOrdered': 3, 'title': 'Einweghandschuhe Schwarz XL 100 Stück Nitrilhandschuhe puderfrei, Handschuhe Einweg latexfrei, strapazierfähige reißfeste Gummihandschuhe, Einweghandschuhe für Kochen, Reinigen, Tattoo & Nagelpflege'}, {'asin': 'B0CL8SPY1X', 'sellerSKU': 'FBM-Nasenverband 20 Stück-75115', 'totalQuantityShipped': 3, 'totalQuantityOrdered': 3, 'title': 'Nasenverband 20 Stück mit Ohrschlaufen'}, {'asin': 'B0CS65SXLG', 'sellerSKU': 'Schwarz-S-100', 'totalQuantityShipped': 2, 'totalQuantityOrdered': 2, 'title': 'Einweghandschuhe Schwarz S 100 Stück Nitrilhandschuhe puderfrei, Handschuhe Einweg latexfrei, strapazierfähige reißfeste Gummihandschuhe, Einweghandschuhe für Kochen Reinigen Tattoo & Nagelpflege'}, {'asin': 'B0CS5Q77Q2', 'sellerSKU': 'Schwarz-L-100', 'totalQuantityShipped': 2, 'totalQuantityOrdered': 2, 'title': 'Einweghandschuhe Schwarz L 100 Stück Nitrilhandschuhe puderfrei, Handschuhe Einweg latexfrei, strapazierfähige reißfeste Gummihandschuhe, Einweghandschuhe für Kochen, Reinigen, Tattoo & Nagelpflege'}, {'asin': 'B0CY4WZY6N', 'sellerSKU': 'HGBKPPPE100', 'totalQuantityShipped': 1, 'totalQuantityOrdered': 1, 'title': 'HansaGT Medical 100 Stk PP+PE Schutzkittel Einweg 32g,OP Kittel Blau,Einweg Kittel,Vlieskittel, Patientenkittel,Einmalkittel,Schutzkittel, Einwegkittel'}, {'asin': 'B0CS6JGCN4', 'sellerSKU': 'Schwarz-M-100', 'totalQuantityShipped': 3, 'totalQuantityOrdered': 3, 'title': 'Einweghandschuhe Schwarz M 100 Stück Nitrilhandschuhe puderfrei, Handschuhe Einweg latexfrei, strapazierfähige reißfeste Gummihandschuhe, Einweghandschuhe für Kochen, Reinigen, Tattoo & Nagelpflege'}, {'asin': 'B0CYH6S9RR', 'sellerSKU': '7L-7PPU-H005', 'totalQuantityShipped': 1, 'totalQuantityOrdered': 1, 'title': '10 Stück Spritze, 50ML Wiederverwendbare Spritze, Dosierspritze Ohne Nadel, Werkzeuge für Flüssigkeitsmaß Spritzen, Futterspritze, für Labor,Tierfütterung,Pflanzenbewässerung (50ml)'}, {'asin': 'B015ZK2UNE', 'sellerSKU': 'MaiMed Wandhalter', 'totalQuantityShipped': 6, 'totalQuantityOrdered': 6, 'title': 'MaiMed Wandhalter, Handschuh-Spender aus Acryl für 3 Handschuhboxen'}]}\n",
      "{'_id': '2024-04-17', 'purchaseDate': '2024-04-17', 'dailyShipments': [{'asin': 'B015ZK2UNE', 'sellerSKU': 'MaiMed Wandhalter', 'totalQuantityShipped': 2, 'totalQuantityOrdered': 2, 'title': 'MaiMed Wandhalter, Handschuh-Spender aus Acryl für 3 Handschuhboxen'}, {'asin': 'B0CL8SPY1X', 'sellerSKU': 'FBM-Nasenverband 20 Stück-75115', 'totalQuantityShipped': 1, 'totalQuantityOrdered': 1, 'title': 'Nasenverband 20 Stück mit Ohrschlaufen'}, {'asin': 'B0CS6KK228', 'sellerSKU': 'Weiß-XL-100', 'totalQuantityShipped': 1, 'totalQuantityOrdered': 1, 'title': 'HansaGT Einweghandschuhe 100 Stück Nitrilhandschuhe puderfrei, Handschuhe Einweg latexfrei, strapazierfähige reißfeste Gummihandschuhe, Einweghandschuhe für Kochen, Reinigen (Weiß, XL)'}, {'asin': 'B0CTZTFSDR', 'sellerSKU': 'HMMD-76620', 'totalQuantityShipped': 1, 'totalQuantityOrdered': 1, 'title': 'Alkohol Vorbereitungspads Alkoholtupfer, 70% Isopropylalkohol, 100 Stück, 30mm x 30mm einzeln verpackt - Alkoholpads einzeln verpackt - Ideal für die Hautreinigung'}, {'asin': 'B0CS6C67XH', 'sellerSKU': 'Schwarz-XL-100', 'totalQuantityShipped': 10, 'totalQuantityOrdered': 10, 'title': 'Einweghandschuhe Schwarz XL 100 Stück Nitrilhandschuhe puderfrei, Handschuhe Einweg latexfrei, strapazierfähige reißfeste Gummihandschuhe, Einweghandschuhe für Kochen, Reinigen, Tattoo & Nagelpflege'}, {'asin': 'B0CS5Q77Q2', 'sellerSKU': 'Schwarz-L-100', 'totalQuantityShipped': 1, 'totalQuantityOrdered': 1, 'title': 'Einweghandschuhe Schwarz L 100 Stück Nitrilhandschuhe puderfrei, Handschuhe Einweg latexfrei, strapazierfähige reißfeste Gummihandschuhe, Einweghandschuhe für Kochen, Reinigen, Tattoo & Nagelpflege'}, {'asin': 'B0CYH6S9RR', 'sellerSKU': '7L-7PPU-H005', 'totalQuantityShipped': 1, 'totalQuantityOrdered': 1, 'title': '10 Stück Spritze, 50ML Wiederverwendbare Spritze, Dosierspritze Ohne Nadel, Werkzeuge für Flüssigkeitsmaß Spritzen, Futterspritze, für Labor,Tierfütterung,Pflanzenbewässerung (50ml)'}]}\n",
      "{'_id': '2024-04-16', 'purchaseDate': '2024-04-16', 'dailyShipments': [{'asin': 'B0CVX5FFTQ', 'sellerSKU': 'Schwarz-L-1000', 'totalQuantityShipped': 1, 'totalQuantityOrdered': 1, 'title': 'HansaGT Medical 1000 Stück Einweghandschuhe Schwarz,Einmalhandschuhe L,Nitril Handschuhe,Gummihandschuhe Einweg Handschuhe,Puderfrei Latexfrei Nitrilhandschuhe,Schutzhandschuhe Nitril'}, {'asin': 'B0CL8SPY1X', 'sellerSKU': 'FBM-Nasenverband 20 Stück-75115', 'totalQuantityShipped': 6, 'totalQuantityOrdered': 6, 'title': 'Nasenverband 20 Stück mit Ohrschlaufen'}, {'asin': 'B084WQVBWT', 'sellerSKU': 'Dr. Becher Bratkrusten Entferner', 'totalQuantityShipped': 1, 'totalQuantityOrdered': 1, 'title': 'Dr. Becher Bratkrusten Entferner - Geeignet für Grills, Räucherkammern, Brat- und Backöfen & Konvektomaten, 1l'}, {'asin': 'B0CTZTFSDR', 'sellerSKU': 'HMMD-76620', 'totalQuantityShipped': 1, 'totalQuantityOrdered': 1, 'title': 'Alkohol Vorbereitungspads Alkoholtupfer, 70% Isopropylalkohol, 100 Stück, 30mm x 30mm einzeln verpackt - Alkoholpads einzeln verpackt - Ideal für die Hautreinigung'}, {'asin': 'B096MRHSW1', 'sellerSKU': 'Descolind Pure Intensive Cream 500ml', 'totalQuantityShipped': 3, 'totalQuantityOrdered': 3, 'title': 'DESCOLIND® PURE Intensive Cream 500 ml Spenderflasche Parfümfreie Intensiv-Pflegecreme'}, {'asin': 'B0CS6C67XH', 'sellerSKU': 'Schwarz-XL-100', 'totalQuantityShipped': 1, 'totalQuantityOrdered': 1, 'title': 'Einweghandschuhe Schwarz XL 100 Stück Nitrilhandschuhe puderfrei, Handschuhe Einweg latexfrei, strapazierfähige reißfeste Gummihandschuhe, Einweghandschuhe für Kochen, Reinigen, Tattoo & Nagelpflege'}, {'asin': 'B0CS5Q77Q2', 'sellerSKU': 'Schwarz-L-100', 'totalQuantityShipped': 1, 'totalQuantityOrdered': 1, 'title': 'Einweghandschuhe Schwarz L 100 Stück Nitrilhandschuhe puderfrei, Handschuhe Einweg latexfrei, strapazierfähige reißfeste Gummihandschuhe, Einweghandschuhe für Kochen, Reinigen, Tattoo & Nagelpflege'}]}\n",
      "{'_id': '2024-04-15', 'purchaseDate': '2024-04-15', 'dailyShipments': [{'asin': 'B00MUG70E6', 'sellerSKU': '2x Dr. Becher Grüne Beckensteine', 'totalQuantityShipped': 1, 'totalQuantityOrdered': 1, 'title': '2x Dr. Becher Grüne Beckensteine für Urinale 35 stk.'}, {'asin': 'B01IZZLCMG', 'sellerSKU': 'Meditrade 6052', 'totalQuantityShipped': 1, 'totalQuantityOrdered': 1, 'title': 'Meditrade 6052 Beesana Universaltuch Soft, 30 cm Länge x 30 cm Breite (50-er pack)'}, {'asin': 'B0CS6C67XH', 'sellerSKU': 'Schwarz-XL-100', 'totalQuantityShipped': 1, 'totalQuantityOrdered': 1, 'title': 'Einweghandschuhe Schwarz XL 100 Stück Nitrilhandschuhe puderfrei, Handschuhe Einweg latexfrei, strapazierfähige reißfeste Gummihandschuhe, Einweghandschuhe für Kochen, Reinigen, Tattoo & Nagelpflege'}, {'asin': 'B0CXXSGH74', 'sellerSKU': 'HMD-77590', 'totalQuantityShipped': 1, 'totalQuantityOrdered': 1, 'title': 'Stretch FIxiervlies elastisch Spenderbox Fixierpflaster Rollenpflaster Elastisch Weiß Sensitiv - Starke Klebekraft (15cm x 10m)'}, {'asin': 'B0CT321T2Q', 'sellerSKU': 'HGNI100S-XL', 'totalQuantityShipped': 3, 'totalQuantityOrdered': 3, 'title': 'HansaGT Medical Nitrilhandschuhe Schwarz 100 Stück XL, Premium Einweghandschuhe latexfrei, Einmalhandschuhe nitril puderfrei - Black Nitrile Gloves für Kochen Reinigen Tattoo & Nagelpflege'}, {'asin': 'B0CL8SPY1X', 'sellerSKU': 'FBM-Nasenverband 20 Stück-75115', 'totalQuantityShipped': 4, 'totalQuantityOrdered': 4, 'title': 'Nasenverband 20 Stück mit Ohrschlaufen'}, {'asin': 'B0CR15YV7L', 'sellerSKU': 'HMMD-77050', 'totalQuantityShipped': 1, 'totalQuantityOrdered': 1, 'title': 'HansaGT Medical Steril Wundpflaster 10 x 8cm, Steriler Wundverband, Pflaster Sensitiv Selbstklebend, Schützt bei Schnittwunden & Kratzern Wundverband zur äußeren Einzeln verpackt 25 Stück'}, {'asin': 'B096MRHSW1', 'sellerSKU': 'Descolind Pure Intensive Cream 500ml', 'totalQuantityShipped': 2, 'totalQuantityOrdered': 2, 'title': 'DESCOLIND® PURE Intensive Cream 500 ml Spenderflasche Parfümfreie Intensiv-Pflegecreme'}, {'asin': 'B0CXXVQ5QN', 'sellerSKU': 'HMD-77580', 'totalQuantityShipped': 2, 'totalQuantityOrdered': 2, 'title': 'Stretch FIxiervlies elastisch Spenderbox Fixierpflaster Rollenpflaster Elastisch Weiß Sensitiv - Starke Klebekraft (5cm x 10m)'}, {'asin': 'B0CY4TZK1F', 'sellerSKU': 'HGBKPP100', 'totalQuantityShipped': 1, 'totalQuantityOrdered': 1, 'title': 'HansaGT Medical 100 Stk PP Schutzkittel Einweg 23g, Einweg-Kittel Blau,OP Kittel,Schutzkittel,PP-Vlieskittelfür den medizinischen und industriellen Gebrauch (PP Einweg Kittel)'}, {'asin': 'B07SDMY5G6', 'sellerSKU': 'Lifemed Kühlspray 3er  300 ml', 'totalQuantityShipped': 1, 'totalQuantityOrdered': 1, 'title': 'Lifemed Kühlspray 3 x 300 ml transparent zur Sofortkühlung'}]}\n",
      "{'_id': '2024-04-14', 'purchaseDate': '2024-04-14', 'dailyShipments': [{'asin': 'B0CXXVQ5QN', 'sellerSKU': 'HMD-77580', 'totalQuantityShipped': 1, 'totalQuantityOrdered': 1, 'title': 'Stretch FIxiervlies elastisch Spenderbox Fixierpflaster Rollenpflaster Elastisch Weiß Sensitiv - Starke Klebekraft (5cm x 10m)'}, {'asin': 'B0CXXSGH74', 'sellerSKU': 'HMD-77590', 'totalQuantityShipped': 0, 'totalQuantityOrdered': 0, 'title': 'Stretch FIxiervlies elastisch Spenderbox Fixierpflaster Rollenpflaster Elastisch Weiß Sensitiv - Starke Klebekraft (15cm x 10m)'}, {'asin': 'B0CVX5FFTQ', 'sellerSKU': 'Schwarz-L-1000', 'totalQuantityShipped': 1, 'totalQuantityOrdered': 1, 'title': 'HansaGT Medical 1000 Stück Einweghandschuhe Schwarz,Einmalhandschuhe L,Nitril Handschuhe,Gummihandschuhe Einweg Handschuhe,Puderfrei Latexfrei Nitrilhandschuhe,Schutzhandschuhe Nitril'}, {'asin': 'B0CR16Y3M3', 'sellerSKU': 'HMMD-77080', 'totalQuantityShipped': 1, 'totalQuantityOrdered': 1, 'title': 'HansaGT Medical Steril Wundpflaster 25 x 10cm, Steriler Wundverband, Pflaster Sensitiv Selbstklebend, Schützt bei Schnittwunden & Kratzern Wundverband zur äußeren Einzeln verpackt 25 Stück'}, {'asin': 'B0CYH6S9RR', 'sellerSKU': '7L-7PPU-H005', 'totalQuantityShipped': 1, 'totalQuantityOrdered': 1, 'title': '10 Stück Spritze, 50ML Wiederverwendbare Spritze, Dosierspritze Ohne Nadel, Werkzeuge für Flüssigkeitsmaß Spritzen, Futterspritze, für Labor,Tierfütterung,Pflanzenbewässerung (50ml)'}, {'asin': 'B08VRVXGVM', 'sellerSKU': 'Dr. Becher Grillreiniger 5 l', 'totalQuantityShipped': 1, 'totalQuantityOrdered': 1, 'title': '1 Dr. Becher Backofen und Grillreiniger 5 l'}, {'asin': 'B0CL8SPY1X', 'sellerSKU': 'FBM-Nasenverband 20 Stück-75115', 'totalQuantityShipped': 1, 'totalQuantityOrdered': 1, 'title': 'Nasenverband 20 Stück mit Ohrschlaufen'}, {'asin': 'B0CS6DC9M2', 'sellerSKU': 'Blau-M-100', 'totalQuantityShipped': 3, 'totalQuantityOrdered': 3, 'title': 'Einweghandschuhe Blau M 100 Stück Nitrilhandschuhe puderfrei, Handschuhe Einweg latexfrei, strapazierfähige reißfeste Gummihandschuhe, Einweghandschuhe für Kochen, Reinigen, Tattoo & Nagelpflege'}, {'asin': 'B00TX51XMW', 'sellerSKU': 'MaiMed-porefix steril 7cmx5cm', 'totalQuantityShipped': 1, 'totalQuantityOrdered': 1, 'title': 'MaiMed®-porefix steril Wundschnellverband verschiedene Größen, Größen:7 cm x 5 cm'}, {'asin': 'B0C8X1SW4X', 'sellerSKU': 'MaiMed-Waschhandschuh', 'totalQuantityShipped': 1, 'totalQuantityOrdered': 1, 'title': 'MaiMed Einweg-Waschhandschuhe für Babys und Erwachsene - weiche, hautfreundliche Einweg-Waschlappen - für den trockenen oder feuchten Gebrauch - ideal für die tägliche Pflege - 50 Stück, weiß'}]}\n",
      "{'_id': '2024-04-13', 'purchaseDate': '2024-04-13', 'dailyShipments': [{'asin': 'B07CRLYLGQ', 'sellerSKU': 'Reinex Wespenspray', 'totalQuantityShipped': 1, 'totalQuantityOrdered': 1, 'title': 'Reinex Wespenspray Insektenstopp mit Sofort- und Langzeitwirkung'}, {'asin': 'B0CXXVQ5QN', 'sellerSKU': 'HMD-77580', 'totalQuantityShipped': 1, 'totalQuantityOrdered': 1, 'title': 'Stretch FIxiervlies elastisch Spenderbox Fixierpflaster Rollenpflaster Elastisch Weiß Sensitiv - Starke Klebekraft (5cm x 10m)'}, {'asin': 'B0CS5ZZ2BJ', 'sellerSKU': 'Blau-XL-100L', 'totalQuantityShipped': 1, 'totalQuantityOrdered': 1, 'title': 'Einweghandschuhe Blau Extra Lang 100 Stück Nitrilhandschuhe puderfrei, Handschuhe Einweg latexfrei, strapazierfähige reißfeste Gummihandschuhe, Einweghandschuhe für Kochen, Reinigen XL'}, {'asin': 'B079NL7BW7', 'sellerSKU': 'Reinex Fugenreiniger 500 ml', 'totalQuantityShipped': 0, 'totalQuantityOrdered': 0, 'title': 'Reinex Fugenreiniger 500 ml gegen ölige und fettige Verschmutzungen'}, {'asin': 'B0CL8SPY1X', 'sellerSKU': 'FBM-Nasenverband 20 Stück-75115', 'totalQuantityShipped': 2, 'totalQuantityOrdered': 2, 'title': 'Nasenverband 20 Stück mit Ohrschlaufen'}]}\n",
      "{'_id': '2024-04-12', 'purchaseDate': '2024-04-12', 'dailyShipments': [{'asin': 'B0CVX7WZNS', 'sellerSKU': 'Schwarz-S-1000', 'totalQuantityShipped': 1, 'totalQuantityOrdered': 1, 'title': 'HansaGT Medical 1000 Stück Einweghandschuhe Schwarz,Einmalhandschuhe S,Nitril Handschuhe,Gummihandschuhe Einweg Handschuhe,Puderfrei Latexfrei Nitrilhandschuhe,Schutzhandschuhe Nitril'}]}\n"
     ]
    }
   ],
   "source": [
    "from datetime import datetime, timedelta\n",
    "days_ago = 10\n",
    "DATETIME_PATTERN = '%Y-%m-%d'\n",
    "start_date = datetime.now() - timedelta(days=days_ago-1)\n",
    "# 聚合管道，用于统计每个产品每天的寄出数量\n",
    "pipeline = [\n",
    "    {\n",
    "        \"$unwind\": \"$items.OrderItems\"\n",
    "    },\n",
    "    {\n",
    "        \"$project\": {\n",
    "            \"_id\": 0,\n",
    "            \"orderDate\": {\"$dateFromString\": {\"dateString\": \"$order.PurchaseDate\"}},\n",
    "            \"asin\": \"$items.OrderItems.ASIN\",\n",
    "            \"quantityOrdered\": \"$items.OrderItems.QuantityOrdered\",\n",
    "            \"quantityShipped\": \"$items.OrderItems.QuantityShipped\",\n",
    "            \"sellerSKU\": \"$items.OrderItems.SellerSKU\",\n",
    "            \"fulfillmentChannel\": \"$order.FulfillmentChannel\",\n",
    "            \"title\": \"$items.OrderItems.Title\"\n",
    "        }\n",
    "    },\n",
    "    {\n",
    "        \"$match\": {\n",
    "            \"orderDate\": {\"$gte\": start_date}, \n",
    "            \"fulfillmentChannel\": \"MFN\"\n",
    "        }\n",
    "    },\n",
    "    {\n",
    "        \"$group\": {\n",
    "            \"_id\": {\n",
    "                \"date\": {\"$dateToString\": {\"format\": \"%Y-%m-%d\", \"date\": \"$orderDate\"}},\n",
    "                \"asin\": \"$asin\"\n",
    "            },\n",
    "            \"totalQuantityOrdered\": {\"$sum\": \"$quantityOrdered\"},\n",
    "            \"totalQuantityShipped\": {\"$sum\": \"$quantityShipped\"},\n",
    "            \"sellerSKU\": {\"$first\": \"$sellerSKU\"},\n",
    "            \"title\": {\"$first\": \"$title\"},\n",
    "        }\n",
    "    },\n",
    "    {\n",
    "        \"$group\": {\n",
    "            \"_id\": \"$_id.date\",\n",
    "            \"purchaseDate\": {\"$first\": \"$_id.date\"},\n",
    "            \"dailyShipments\": {\n",
    "                \"$push\": {\n",
    "                   \"asin\": \"$_id.asin\",\n",
    "                   \"sellerSKU\": \"$sellerSKU\",\n",
    "                    \"totalQuantityShipped\": \"$totalQuantityShipped\",\n",
    "                    \"totalQuantityOrdered\": \"$totalQuantityOrdered\",\n",
    "                    \"title\": \"$title\",\n",
    "                }\n",
    "            }\n",
    "        }\n",
    "    },\n",
    "\n",
    "    {\n",
    "        \"$sort\": {\"_id\": -1}\n",
    "    }\n",
    "]\n",
    "# 执行聚合操作\n",
    "results = orders_collection.aggregate(pipeline)\n",
    "\n",
    "# 打印结果\n",
    "for result in results:\n",
    "    print(result)"
   ]
  },
  {
   "cell_type": "code",
   "execution_count": null,
   "metadata": {},
   "outputs": [],
   "source": []
  }
 ],
 "metadata": {
  "kernelspec": {
   "display_name": ".venv",
   "language": "python",
   "name": "python3"
  },
  "language_info": {
   "codemirror_mode": {
    "name": "ipython",
    "version": 3
   },
   "file_extension": ".py",
   "mimetype": "text/x-python",
   "name": "python",
   "nbconvert_exporter": "python",
   "pygments_lexer": "ipython3",
   "version": "3.12.2"
  }
 },
 "nbformat": 4,
 "nbformat_minor": 2
}
